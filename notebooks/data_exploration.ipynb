{
 "cells": [
  {
   "cell_type": "markdown",
   "metadata": {},
   "source": [
    "# Portugese Meals Classification: Data exploration"
   ]
  },
  {
   "cell_type": "code",
   "execution_count": 1,
   "metadata": {},
   "outputs": [],
   "source": [
    "import pandas as pd\n",
    "import os\n",
    "import cv2\n",
    "import numpy as np\n",
    "from sklearn.model_selection import train_test_split\n",
    "from sklearn.utils import shuffle\n",
    "from IPython.display import clear_output\n",
    "import yaml\n"
   ]
  },
  {
   "cell_type": "code",
   "execution_count": 2,
   "metadata": {},
   "outputs": [
    {
     "name": "stdout",
     "output_type": "stream",
     "text": [
      "d:\\GigaFolder\\projects\\Portuguese-Meals-Classification\n"
     ]
    }
   ],
   "source": [
    "%cd .."
   ]
  },
  {
   "cell_type": "code",
   "execution_count": 3,
   "metadata": {},
   "outputs": [],
   "source": [
    "config = yaml.safe_load(open('config.yaml', 'r'))"
   ]
  },
  {
   "cell_type": "code",
   "execution_count": 4,
   "metadata": {},
   "outputs": [
    {
     "data": {
      "text/html": [
       "<div>\n",
       "<style scoped>\n",
       "    .dataframe tbody tr th:only-of-type {\n",
       "        vertical-align: middle;\n",
       "    }\n",
       "\n",
       "    .dataframe tbody tr th {\n",
       "        vertical-align: top;\n",
       "    }\n",
       "\n",
       "    .dataframe thead th {\n",
       "        text-align: right;\n",
       "    }\n",
       "</style>\n",
       "<table border=\"1\" class=\"dataframe\">\n",
       "  <thead>\n",
       "    <tr style=\"text-align: right;\">\n",
       "      <th></th>\n",
       "      <th>label</th>\n",
       "      <th>path</th>\n",
       "    </tr>\n",
       "  </thead>\n",
       "  <tbody>\n",
       "    <tr>\n",
       "      <th>0</th>\n",
       "      <td>aletria</td>\n",
       "      <td>./data/raw/aletria\\1.jpg</td>\n",
       "    </tr>\n",
       "    <tr>\n",
       "      <th>1</th>\n",
       "      <td>aletria</td>\n",
       "      <td>./data/raw/aletria\\10.jpg</td>\n",
       "    </tr>\n",
       "    <tr>\n",
       "      <th>2</th>\n",
       "      <td>aletria</td>\n",
       "      <td>./data/raw/aletria\\100.jpg</td>\n",
       "    </tr>\n",
       "    <tr>\n",
       "      <th>3</th>\n",
       "      <td>aletria</td>\n",
       "      <td>./data/raw/aletria\\101.jpg</td>\n",
       "    </tr>\n",
       "    <tr>\n",
       "      <th>4</th>\n",
       "      <td>aletria</td>\n",
       "      <td>./data/raw/aletria\\102.jpg</td>\n",
       "    </tr>\n",
       "    <tr>\n",
       "      <th>...</th>\n",
       "      <td>...</td>\n",
       "      <td>...</td>\n",
       "    </tr>\n",
       "    <tr>\n",
       "      <th>6721</th>\n",
       "      <td>waffles</td>\n",
       "      <td>./data/raw/waffles\\971843.jpg</td>\n",
       "    </tr>\n",
       "    <tr>\n",
       "      <th>6722</th>\n",
       "      <td>waffles</td>\n",
       "      <td>./data/raw/waffles\\97524.jpg</td>\n",
       "    </tr>\n",
       "    <tr>\n",
       "      <th>6723</th>\n",
       "      <td>waffles</td>\n",
       "      <td>./data/raw/waffles\\98238.jpg</td>\n",
       "    </tr>\n",
       "    <tr>\n",
       "      <th>6724</th>\n",
       "      <td>waffles</td>\n",
       "      <td>./data/raw/waffles\\995085.jpg</td>\n",
       "    </tr>\n",
       "    <tr>\n",
       "      <th>6725</th>\n",
       "      <td>waffles</td>\n",
       "      <td>./data/raw/waffles\\999047.jpg</td>\n",
       "    </tr>\n",
       "  </tbody>\n",
       "</table>\n",
       "<p>6726 rows × 2 columns</p>\n",
       "</div>"
      ],
      "text/plain": [
       "        label                           path\n",
       "0     aletria       ./data/raw/aletria\\1.jpg\n",
       "1     aletria      ./data/raw/aletria\\10.jpg\n",
       "2     aletria     ./data/raw/aletria\\100.jpg\n",
       "3     aletria     ./data/raw/aletria\\101.jpg\n",
       "4     aletria     ./data/raw/aletria\\102.jpg\n",
       "...       ...                            ...\n",
       "6721  waffles  ./data/raw/waffles\\971843.jpg\n",
       "6722  waffles   ./data/raw/waffles\\97524.jpg\n",
       "6723  waffles   ./data/raw/waffles\\98238.jpg\n",
       "6724  waffles  ./data/raw/waffles\\995085.jpg\n",
       "6725  waffles  ./data/raw/waffles\\999047.jpg\n",
       "\n",
       "[6726 rows x 2 columns]"
      ]
     },
     "execution_count": 4,
     "metadata": {},
     "output_type": "execute_result"
    }
   ],
   "source": [
    "classes = os.listdir(config['dataset']['data_dir'])\n",
    "classes.sort()\n",
    "\n",
    "labels = []\n",
    "paths = []\n",
    "\n",
    "for class_name in classes:\n",
    "    class_path = os.path.join(config['dataset']['data_dir'], class_name)\n",
    "\n",
    "    file_names = os.listdir(class_path)\n",
    "    for file_name in file_names:\n",
    "        file_path = os.path.join(class_path, file_name)\n",
    "\n",
    "        labels.append(class_name)\n",
    "        paths.append(file_path)\n",
    "\n",
    "        # try:\n",
    "        #     img = cv2.imread(file_path)\n",
    "        #     shape = img.shape\n",
    "        #     if len(shape) != 3:\n",
    "        #         print('Image file ', file_path,\n",
    "        #               ' is not an rgb image and was not used in the dataframe')\n",
    "        #     else:\n",
    "        #         labels.append(class_name)\n",
    "        #         paths.append(file_path)\n",
    "        # except:\n",
    "        #     print('Image file ', file_path, ' is an invalid image and was not used')\n",
    "# No exceptions = all images are valid\n",
    "\n",
    "labels = pd.Series(labels, name='label')\n",
    "paths = pd.Series(paths, name='path')\n",
    "df = pd.concat([labels, paths], axis=1)\n",
    "df.to_csv(config['dataset']['csv_dir'] + 'full.csv', index=False)\n",
    "df"
   ]
  },
  {
   "cell_type": "markdown",
   "metadata": {},
   "source": [
    "From this it's easy to see that `caldo_verde` and `croissant` are extremle under represented  \n",
    "I quess I'll oversample theese classes (more augmented examples and duplication)"
   ]
  },
  {
   "cell_type": "code",
   "execution_count": 5,
   "metadata": {},
   "outputs": [],
   "source": [
    "def print_class_count(df, name: str, ret=False):\n",
    "    counts = {}\n",
    "    print(f'{name} CLASS COUNTS:\\n')\n",
    "    for cls in classes:\n",
    "        count = df[\"label\"].where(df[\"label\"] == cls).dropna().count()\n",
    "        counts[cls] = count\n",
    "        print(f'{cls:20s} : {count}')\n",
    "\n",
    "    print(f'\\nTotal samples: {len(counts)}')\n",
    "    if ret:\n",
    "        return counts"
   ]
  },
  {
   "cell_type": "code",
   "execution_count": 6,
   "metadata": {},
   "outputs": [
    {
     "name": "stdout",
     "output_type": "stream",
     "text": [
      "Initial CLASS COUNTS:\n",
      "\n",
      "aletria              : 234\n",
      "arroz_cabidela       : 97\n",
      "bacalhau_bras        : 495\n",
      "bacalhau_natas       : 97\n",
      "batatas_fritas       : 541\n",
      "bolo_chocolate       : 500\n",
      "cachorro             : 490\n",
      "caldo_verde          : 23\n",
      "cozido_portuguesa    : 104\n",
      "croissant            : 32\n",
      "donuts               : 495\n",
      "esparguete_bolonhesa : 491\n",
      "feijoada             : 99\n",
      "francesinha          : 500\n",
      "gelado               : 525\n",
      "hamburguer           : 494\n",
      "jardineira           : 98\n",
      "nata                 : 98\n",
      "ovo                  : 96\n",
      "pasteis_bacalhau     : 111\n",
      "pizza                : 500\n",
      "tripas_moda_porto    : 107\n",
      "waffles              : 499\n",
      "\n",
      "Total samples: 23\n"
     ]
    }
   ],
   "source": [
    "class_counts = print_class_count(df, 'Initial', True)"
   ]
  },
  {
   "cell_type": "code",
   "execution_count": 7,
   "metadata": {},
   "outputs": [
    {
     "name": "stdout",
     "output_type": "stream",
     "text": [
      "Average aspect ration: 0.8651361721825422\n",
      "\n",
      "Average width: 571.5801367826346\n",
      "Min|Max width: 140, 4296\n",
      "\n",
      "Average height: 660.6822777282189\n",
      "Min|Max height: 176, 4928\n"
     ]
    }
   ],
   "source": [
    "# Knowing this is good I quess? Though I didn't ever use this\n",
    "height = []\n",
    "width = []\n",
    "for path in df['path']:\n",
    "    im = cv2.imread(path)\n",
    "    width.append(im.shape[0])\n",
    "    height.append(im.shape[1])\n",
    "\n",
    "print(f'Average aspect ration: {np.mean(width)/np.mean(height)}')\n",
    "print(f'\\nAverage width: {np.mean(width)}')\n",
    "print(f'Min|Max width: {np.min(width)}, {np.max(width)}')\n",
    "\n",
    "print(f'\\nAverage height: {np.mean(height)}')\n",
    "print(f'Min|Max height: {np.min(height)}, {np.max(height)}')"
   ]
  }
 ],
 "metadata": {
  "kernelspec": {
   "display_name": "Python 3.10.2 64-bit",
   "language": "python",
   "name": "python3"
  },
  "language_info": {
   "codemirror_mode": {
    "name": "ipython",
    "version": 3
   },
   "file_extension": ".py",
   "mimetype": "text/x-python",
   "name": "python",
   "nbconvert_exporter": "python",
   "pygments_lexer": "ipython3",
   "version": "3.10.2"
  },
  "orig_nbformat": 4,
  "vscode": {
   "interpreter": {
    "hash": "20f5b49acdb8aa5482bf611cd625371fff780f4a1ea28b5df1442e16c229ca99"
   }
  }
 },
 "nbformat": 4,
 "nbformat_minor": 2
}
