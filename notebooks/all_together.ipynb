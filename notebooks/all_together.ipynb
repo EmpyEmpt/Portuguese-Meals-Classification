{
 "cells": [
  {
   "cell_type": "markdown",
   "metadata": {},
   "source": [
    "# Portugese Meals Classification"
   ]
  },
  {
   "cell_type": "markdown",
   "metadata": {},
   "source": [
    "## Data exploration"
   ]
  },
  {
   "cell_type": "markdown",
   "metadata": {},
   "source": [
    "First of all I want to kniw are there any under/over represented classes and/or invalid images  \n",
    "Additionally I'll need a DF to quickly get image_path-label pairs "
   ]
  },
  {
   "cell_type": "code",
   "execution_count": 1,
   "metadata": {},
   "outputs": [],
   "source": [
    "import pandas as pd\n",
    "import os\n",
    "import cv2\n",
    "import numpy as np\n",
    "from sklearn.model_selection import train_test_split\n",
    "from sklearn.utils import shuffle\n",
    "from IPython.display import clear_output\n",
    "import yaml"
   ]
  },
  {
   "cell_type": "code",
   "execution_count": 2,
   "metadata": {},
   "outputs": [
    {
     "name": "stdout",
     "output_type": "stream",
     "text": [
      "d:\\GigaFolder\\projects\\Portuguese-Meals-Classification\n"
     ]
    }
   ],
   "source": [
    "%cd .."
   ]
  },
  {
   "cell_type": "code",
   "execution_count": 3,
   "metadata": {},
   "outputs": [],
   "source": [
    "config = yaml.safe_load(open('config.yaml', 'r'))"
   ]
  },
  {
   "cell_type": "markdown",
   "metadata": {},
   "source": [
    "### Data work"
   ]
  },
  {
   "cell_type": "code",
   "execution_count": 4,
   "metadata": {},
   "outputs": [
    {
     "data": {
      "text/html": [
       "<div>\n",
       "<style scoped>\n",
       "    .dataframe tbody tr th:only-of-type {\n",
       "        vertical-align: middle;\n",
       "    }\n",
       "\n",
       "    .dataframe tbody tr th {\n",
       "        vertical-align: top;\n",
       "    }\n",
       "\n",
       "    .dataframe thead th {\n",
       "        text-align: right;\n",
       "    }\n",
       "</style>\n",
       "<table border=\"1\" class=\"dataframe\">\n",
       "  <thead>\n",
       "    <tr style=\"text-align: right;\">\n",
       "      <th></th>\n",
       "      <th>label</th>\n",
       "      <th>path</th>\n",
       "    </tr>\n",
       "  </thead>\n",
       "  <tbody>\n",
       "    <tr>\n",
       "      <th>0</th>\n",
       "      <td>aletria</td>\n",
       "      <td>./data/raw/aletria\\1.jpg</td>\n",
       "    </tr>\n",
       "    <tr>\n",
       "      <th>1</th>\n",
       "      <td>aletria</td>\n",
       "      <td>./data/raw/aletria\\10.jpg</td>\n",
       "    </tr>\n",
       "    <tr>\n",
       "      <th>2</th>\n",
       "      <td>aletria</td>\n",
       "      <td>./data/raw/aletria\\100.jpg</td>\n",
       "    </tr>\n",
       "    <tr>\n",
       "      <th>3</th>\n",
       "      <td>aletria</td>\n",
       "      <td>./data/raw/aletria\\101.jpg</td>\n",
       "    </tr>\n",
       "    <tr>\n",
       "      <th>4</th>\n",
       "      <td>aletria</td>\n",
       "      <td>./data/raw/aletria\\102.jpg</td>\n",
       "    </tr>\n",
       "    <tr>\n",
       "      <th>...</th>\n",
       "      <td>...</td>\n",
       "      <td>...</td>\n",
       "    </tr>\n",
       "    <tr>\n",
       "      <th>6721</th>\n",
       "      <td>waffles</td>\n",
       "      <td>./data/raw/waffles\\971843.jpg</td>\n",
       "    </tr>\n",
       "    <tr>\n",
       "      <th>6722</th>\n",
       "      <td>waffles</td>\n",
       "      <td>./data/raw/waffles\\97524.jpg</td>\n",
       "    </tr>\n",
       "    <tr>\n",
       "      <th>6723</th>\n",
       "      <td>waffles</td>\n",
       "      <td>./data/raw/waffles\\98238.jpg</td>\n",
       "    </tr>\n",
       "    <tr>\n",
       "      <th>6724</th>\n",
       "      <td>waffles</td>\n",
       "      <td>./data/raw/waffles\\995085.jpg</td>\n",
       "    </tr>\n",
       "    <tr>\n",
       "      <th>6725</th>\n",
       "      <td>waffles</td>\n",
       "      <td>./data/raw/waffles\\999047.jpg</td>\n",
       "    </tr>\n",
       "  </tbody>\n",
       "</table>\n",
       "<p>6726 rows × 2 columns</p>\n",
       "</div>"
      ],
      "text/plain": [
       "        label                           path\n",
       "0     aletria       ./data/raw/aletria\\1.jpg\n",
       "1     aletria      ./data/raw/aletria\\10.jpg\n",
       "2     aletria     ./data/raw/aletria\\100.jpg\n",
       "3     aletria     ./data/raw/aletria\\101.jpg\n",
       "4     aletria     ./data/raw/aletria\\102.jpg\n",
       "...       ...                            ...\n",
       "6721  waffles  ./data/raw/waffles\\971843.jpg\n",
       "6722  waffles   ./data/raw/waffles\\97524.jpg\n",
       "6723  waffles   ./data/raw/waffles\\98238.jpg\n",
       "6724  waffles  ./data/raw/waffles\\995085.jpg\n",
       "6725  waffles  ./data/raw/waffles\\999047.jpg\n",
       "\n",
       "[6726 rows x 2 columns]"
      ]
     },
     "execution_count": 4,
     "metadata": {},
     "output_type": "execute_result"
    }
   ],
   "source": [
    "classes = os.listdir(config['dataset']['data_dir'])\n",
    "classes.sort()\n",
    "\n",
    "labels = []\n",
    "paths = []\n",
    "\n",
    "for class_name in classes:\n",
    "    class_path = os.path.join(config['dataset']['data_dir'], class_name)\n",
    "\n",
    "    file_names = os.listdir(class_path)\n",
    "    for file_name in file_names:\n",
    "        file_path = os.path.join(class_path, file_name)\n",
    "        \n",
    "        try:    \n",
    "            img = cv2.imread(file_path)\n",
    "            shape = img.shape\n",
    "            if len(shape) != 3:\n",
    "                print('Image file ', file_path,\n",
    "                      ' is not an rgb image and was not used in the dataframe')\n",
    "            else:\n",
    "                labels.append(class_name)\n",
    "                paths.append(file_path)\n",
    "        except:\n",
    "            print('Image file ', file_path, ' is an invalid image and was not used')\n",
    "# No exceptions = all images are valid\n",
    "\n",
    "labels = pd.Series(labels, name = 'label')\n",
    "paths = pd.Series(paths, name = 'path')\n",
    "df = pd.concat([labels, paths], axis = 1)\n",
    "df.to_csv(config['dataset']['csv_dir'] + 'full.csv', index = False)\n",
    "df\n"
   ]
  },
  {
   "cell_type": "markdown",
   "metadata": {},
   "source": [
    "From this it's easy to see that `caldo_verde` and `croissant` are extremle under represented  \n",
    "I quess I'll oversample theese classes (more augmented examples and duplication)"
   ]
  },
  {
   "cell_type": "code",
   "execution_count": 5,
   "metadata": {},
   "outputs": [],
   "source": [
    "def print_class_count(df, name: str, ret = False):\n",
    "    counts = {}\n",
    "    print(f'{name} CLASS COUNTS:\\n')\n",
    "    for cls in classes:\n",
    "        count = df[\"label\"].where(df[\"label\"] == cls).dropna().count()\n",
    "        counts[cls] = count\n",
    "        print(f'{cls:20s} : {count}')\n",
    "\n",
    "    print(f'\\nTotal samples: {len(counts)}')\n",
    "    if ret:\n",
    "        return counts"
   ]
  },
  {
   "cell_type": "code",
   "execution_count": 6,
   "metadata": {},
   "outputs": [
    {
     "name": "stdout",
     "output_type": "stream",
     "text": [
      "Initial CLASS COUNTS:\n",
      "\n",
      "aletria              : 234\n",
      "arroz_cabidela       : 97\n",
      "bacalhau_bras        : 495\n",
      "bacalhau_natas       : 97\n",
      "batatas_fritas       : 541\n",
      "bolo_chocolate       : 500\n",
      "cachorro             : 490\n",
      "caldo_verde          : 23\n",
      "cozido_portuguesa    : 104\n",
      "croissant            : 32\n",
      "donuts               : 495\n",
      "esparguete_bolonhesa : 491\n",
      "feijoada             : 99\n",
      "francesinha          : 500\n",
      "gelado               : 525\n",
      "hamburguer           : 494\n",
      "jardineira           : 98\n",
      "nata                 : 98\n",
      "ovo                  : 96\n",
      "pasteis_bacalhau     : 111\n",
      "pizza                : 500\n",
      "tripas_moda_porto    : 107\n",
      "waffles              : 499\n",
      "\n",
      "Total samples: 23\n"
     ]
    }
   ],
   "source": [
    "class_counts = print_class_count(df, 'Initial', True)"
   ]
  },
  {
   "cell_type": "code",
   "execution_count": 7,
   "metadata": {},
   "outputs": [
    {
     "name": "stdout",
     "output_type": "stream",
     "text": [
      "Average aspect ration: 0.8651361721825422\n",
      "\n",
      "Average width: 571.5801367826346\n",
      "Min|Max width: 140, 4296\n",
      "\n",
      "Average height: 660.6822777282189\n",
      "Min|Max height: 176, 4928\n"
     ]
    }
   ],
   "source": [
    "# Knowing this is good I quess? Though I didn't ever use this\n",
    "height = []\n",
    "width = []\n",
    "for path in df['path']:\n",
    "    im = cv2.imread(path)\n",
    "    width.append(im.shape[0])\n",
    "    height.append(im.shape[1])\n",
    "\n",
    "print(f'Average aspect ration: {np.mean(width)/np.mean(height)}')\n",
    "print(f'\\nAverage width: {np.mean(width)}')\n",
    "print(f'Min|Max width: {np.min(width)}, {np.max(width)}')\n",
    "\n",
    "print(f'\\nAverage height: {np.mean(height)}')\n",
    "print(f'Min|Max height: {np.min(height)}, {np.max(height)}')\n"
   ]
  },
  {
   "cell_type": "markdown",
   "metadata": {},
   "source": [
    "## Training/Testing/Validation splitting"
   ]
  },
  {
   "cell_type": "markdown",
   "metadata": {},
   "source": [
    "I'll take `10%` of ORIGINAL images for validation"
   ]
  },
  {
   "cell_type": "code",
   "execution_count": 8,
   "metadata": {},
   "outputs": [],
   "source": [
    "dummy_df = shuffle(df, random_state=config['random_seed'])\n",
    "val_df = dummy_df[:int(len(df) * config['dataset']['validation_ratio'])]\n",
    "assert config['class_count'] == val_df.label.nunique()\n",
    "\n",
    "train_test_df = dummy_df[int(len(df) * config['dataset']['validation_ratio']):]\n",
    "del dummy_df\n",
    "\n",
    "val_df.to_csv(config['dataset']['csv_dir'] + 'val.csv', index=False)\n",
    "train_test_df.to_csv(config['dataset']['csv_dir'] + 'test_train.csv', index = False)\n"
   ]
  },
  {
   "cell_type": "code",
   "execution_count": 9,
   "metadata": {},
   "outputs": [
    {
     "name": "stdout",
     "output_type": "stream",
     "text": [
      "Validation set CLASS COUNTS:\n",
      "\n",
      "aletria              : 26\n",
      "arroz_cabidela       : 7\n",
      "bacalhau_bras        : 42\n",
      "bacalhau_natas       : 10\n",
      "batatas_fritas       : 39\n",
      "bolo_chocolate       : 44\n",
      "cachorro             : 56\n",
      "caldo_verde          : 3\n",
      "cozido_portuguesa    : 13\n",
      "croissant            : 5\n",
      "donuts               : 52\n",
      "esparguete_bolonhesa : 56\n",
      "feijoada             : 11\n",
      "francesinha          : 45\n",
      "gelado               : 52\n",
      "hamburguer           : 50\n",
      "jardineira           : 12\n",
      "nata                 : 12\n",
      "ovo                  : 8\n",
      "pasteis_bacalhau     : 11\n",
      "pizza                : 42\n",
      "tripas_moda_porto    : 16\n",
      "waffles              : 60\n",
      "\n",
      "Total samples: 23\n"
     ]
    }
   ],
   "source": [
    "print_class_count(val_df, 'Validation set')"
   ]
  },
  {
   "cell_type": "code",
   "execution_count": 10,
   "metadata": {},
   "outputs": [
    {
     "name": "stdout",
     "output_type": "stream",
     "text": [
      "Test-train set (before processing) CLASS COUNTS:\n",
      "\n",
      "aletria              : 208\n",
      "arroz_cabidela       : 90\n",
      "bacalhau_bras        : 453\n",
      "bacalhau_natas       : 87\n",
      "batatas_fritas       : 502\n",
      "bolo_chocolate       : 456\n",
      "cachorro             : 434\n",
      "caldo_verde          : 20\n",
      "cozido_portuguesa    : 91\n",
      "croissant            : 27\n",
      "donuts               : 443\n",
      "esparguete_bolonhesa : 435\n",
      "feijoada             : 88\n",
      "francesinha          : 455\n",
      "gelado               : 473\n",
      "hamburguer           : 444\n",
      "jardineira           : 86\n",
      "nata                 : 86\n",
      "ovo                  : 88\n",
      "pasteis_bacalhau     : 100\n",
      "pizza                : 458\n",
      "tripas_moda_porto    : 91\n",
      "waffles              : 439\n",
      "\n",
      "Total samples: 23\n"
     ]
    }
   ],
   "source": [
    "print_class_count(train_test_df, 'Test-train set (before processing)')"
   ]
  },
  {
   "cell_type": "markdown",
   "metadata": {},
   "source": [
    "And now I'll do some dataset balancing and image augmentation"
   ]
  },
  {
   "cell_type": "markdown",
   "metadata": {},
   "source": [
    "## Data preprocessing\n"
   ]
  },
  {
   "cell_type": "markdown",
   "metadata": {},
   "source": [
    "### Augmentation & transformation"
   ]
  },
  {
   "cell_type": "code",
   "execution_count": 11,
   "metadata": {},
   "outputs": [],
   "source": [
    "import albumentations as A\n",
    "from sklearn.preprocessing import LabelBinarizer"
   ]
  },
  {
   "cell_type": "code",
   "execution_count": 12,
   "metadata": {},
   "outputs": [],
   "source": [
    "a = train_test_df.copy()\n",
    "assert len(train_test_df) == len(a)"
   ]
  },
  {
   "cell_type": "code",
   "execution_count": 13,
   "metadata": {},
   "outputs": [
    {
     "data": {
      "text/plain": [
       "6148"
      ]
     },
     "execution_count": 13,
     "metadata": {},
     "output_type": "execute_result"
    }
   ],
   "source": [
    "# first of all - duplicate (twice) underrepresented classes (~30 ex.)\n",
    "for idx in range(len(a)):\n",
    "    cls, path = a.iloc[idx]\n",
    "    if class_counts[cls] < 50:\n",
    "        a = a.append({'label': cls, 'path': path}, ignore_index= True)\n",
    "        a = a.append({'label': cls, 'path': path}, ignore_index= True)\n",
    "\n",
    "clear_output()\n",
    "len(a)\n",
    "# now there're ~60-90 examples of examples of under represented classes"
   ]
  },
  {
   "cell_type": "code",
   "execution_count": 14,
   "metadata": {},
   "outputs": [
    {
     "data": {
      "text/plain": [
       "3906"
      ]
     },
     "execution_count": 14,
     "metadata": {},
     "output_type": "execute_result"
    }
   ],
   "source": [
    "# now I'll remove around 250 examples of overrepresented classes\n",
    "b = a.copy() \n",
    "for idx in range(len(a)):\n",
    "    cls, path = a.iloc[idx]\n",
    "    if b[\"label\"].where(b[\"label\"] == cls).dropna().count() > 250:\n",
    "        b = b.drop(b[b.path == path].index)\n",
    "\n",
    "clear_output()\n",
    "len(b)\n",
    "# now there 250 examples of over-represented classes\n",
    "# (60-90)underrepresented, 200aletria, 250overrepresented, 100normaly distibuted"
   ]
  },
  {
   "cell_type": "code",
   "execution_count": 15,
   "metadata": {},
   "outputs": [
    {
     "name": "stdout",
     "output_type": "stream",
     "text": [
      "Train-test set (step 1 of processing) CLASS COUNTS:\n",
      "\n",
      "aletria              : 208\n",
      "arroz_cabidela       : 90\n",
      "bacalhau_bras        : 250\n",
      "bacalhau_natas       : 87\n",
      "batatas_fritas       : 250\n",
      "bolo_chocolate       : 250\n",
      "cachorro             : 250\n",
      "caldo_verde          : 60\n",
      "cozido_portuguesa    : 91\n",
      "croissant            : 81\n",
      "donuts               : 250\n",
      "esparguete_bolonhesa : 250\n",
      "feijoada             : 88\n",
      "francesinha          : 250\n",
      "gelado               : 250\n",
      "hamburguer           : 250\n",
      "jardineira           : 86\n",
      "nata                 : 86\n",
      "ovo                  : 88\n",
      "pasteis_bacalhau     : 100\n",
      "pizza                : 250\n",
      "tripas_moda_porto    : 91\n",
      "waffles              : 250\n",
      "\n",
      "Total samples: 23\n"
     ]
    }
   ],
   "source": [
    "# And so training-test spit is:\n",
    "print_class_count(b, 'Train-test set (step 1 of processing)')"
   ]
  },
  {
   "cell_type": "code",
   "execution_count": 16,
   "metadata": {},
   "outputs": [
    {
     "data": {
      "text/plain": [
       "3906"
      ]
     },
     "execution_count": 16,
     "metadata": {},
     "output_type": "execute_result"
    }
   ],
   "source": [
    "train_test_df = shuffle(b)\n",
    "del a\n",
    "del b\n",
    "len(train_test_df)"
   ]
  },
  {
   "cell_type": "code",
   "execution_count": 17,
   "metadata": {},
   "outputs": [],
   "source": [
    "transformation = A.Compose(\n",
    "    [\n",
    "        A.Rotate(limit=15, p=1),\n",
    "        A.HorizontalFlip(p=0.5),\n",
    "        A.VerticalFlip(p=0.5),\n",
    "        A.GaussianBlur(blur_limit=(3, 9), p=0.6),\n",
    "        A.RandomBrightnessContrast(p=0.4),\n",
    "    ]\n",
    ")\n",
    "\n",
    "\n",
    "def resize(image, image_size=config['img_shape'][0]):\n",
    "    # I'll go for a square image\n",
    "    return cv2.resize(image, (image_size, image_size), interpolation=cv2.INTER_AREA)\n",
    "\n",
    "\n",
    "def augment(image):\n",
    "    return transformation(image=image)['image']\n",
    "\n",
    "\n",
    "def normalize(image):\n",
    "    image = image / 255\n",
    "    return image\n",
    "\n",
    "\n",
    "def preprocess(image):\n",
    "    image = augment(image)\n",
    "    image = resize(image)\n",
    "    image = normalize(image)\n",
    "    return image\n"
   ]
  },
  {
   "cell_type": "code",
   "execution_count": 18,
   "metadata": {},
   "outputs": [
    {
     "data": {
      "text/plain": [
       "5802"
      ]
     },
     "execution_count": 18,
     "metadata": {},
     "output_type": "execute_result"
    }
   ],
   "source": [
    "labels = []\n",
    "images = []\n",
    "\n",
    "for idx in range(len(train_test_df)):\n",
    "    cls, path = train_test_df.iloc[idx]\n",
    "    image = cv2.imread(path)\n",
    "    # special case (~200 ex.) over representer case (~450 ex.)\n",
    "    if cls == 'aletria' or class_counts[cls] >= 430:\n",
    "        im1 = augment(image)\n",
    "        im1 = resize(im1)\n",
    "        im1 = normalize(im1)\n",
    "\n",
    "        labels.append(cls)\n",
    "\n",
    "        images.append(im1)\n",
    "\n",
    "    else:  # under represented cae (~30 ex.) and normal case (~100 ex.)\n",
    "        im1 = augment(image)\n",
    "        im1 = resize(im1)\n",
    "        im1 = normalize(im1)\n",
    "\n",
    "        im2 = augment(image)\n",
    "        im2 = resize(im2)\n",
    "        im2 = normalize(im2)\n",
    "\n",
    "        image = resize(image)\n",
    "        image = normalize(image)\n",
    "\n",
    "        labels.append(cls)\n",
    "        labels.append(cls)\n",
    "        labels.append(cls)\n",
    "\n",
    "        images.append(im1)\n",
    "        images.append(im2)\n",
    "        images.append(image)\n",
    "        \n",
    "len(labels)\n"
   ]
  },
  {
   "cell_type": "code",
   "execution_count": 19,
   "metadata": {},
   "outputs": [
    {
     "name": "stdout",
     "output_type": "stream",
     "text": [
      "[['aletria' '208']\n",
      " ['arroz_cabidela' '270']\n",
      " ['bacalhau_bras' '250']\n",
      " ['bacalhau_natas' '261']\n",
      " ['batatas_fritas' '250']\n",
      " ['bolo_chocolate' '250']\n",
      " ['cachorro' '250']\n",
      " ['caldo_verde' '180']\n",
      " ['cozido_portuguesa' '273']\n",
      " ['croissant' '243']\n",
      " ['donuts' '250']\n",
      " ['esparguete_bolonhesa' '250']\n",
      " ['feijoada' '264']\n",
      " ['francesinha' '250']\n",
      " ['gelado' '250']\n",
      " ['hamburguer' '250']\n",
      " ['jardineira' '258']\n",
      " ['nata' '258']\n",
      " ['ovo' '264']\n",
      " ['pasteis_bacalhau' '300']\n",
      " ['pizza' '250']\n",
      " ['tripas_moda_porto' '273']\n",
      " ['waffles' '250']]\n"
     ]
    }
   ],
   "source": [
    "arr = np.array(labels)\n",
    "u, c = np.unique(arr, return_counts=True)\n",
    "print(np.asarray((u, c)).T)\n"
   ]
  },
  {
   "cell_type": "code",
   "execution_count": 20,
   "metadata": {},
   "outputs": [],
   "source": [
    "encoder = LabelBinarizer()\n",
    "labels = np.asarray(labels)\n",
    "labels = encoder.fit_transform(labels)\n",
    "\n",
    "images = np.asarray(images)\n"
   ]
  },
  {
   "cell_type": "markdown",
   "metadata": {},
   "source": [
    "### Compression/uncompression"
   ]
  },
  {
   "cell_type": "code",
   "execution_count": 4,
   "metadata": {},
   "outputs": [],
   "source": [
    "def compress_splits(X, Y, dir):\n",
    "    np.savez_compressed(dir + 'Xvalues.npz', X)\n",
    "    np.savez_compressed(dir + 'Yvalues.npz', Y)\n",
    "\n",
    "\n",
    "def uncompress_splits(dir: str):\n",
    "    X = np.load(dir + 'Xvalues.npz')['arr_0']\n",
    "    Y = np.load(dir + 'Yvalues.npz')['arr_0']\n",
    "\n",
    "    return X, Y"
   ]
  },
  {
   "cell_type": "code",
   "execution_count": 5,
   "metadata": {},
   "outputs": [],
   "source": [
    "# compress_splits(images, labels, config['dataset']['augmented_dir'])\n",
    "images, labels = uncompress_splits(config['dataset']['augmented_dir'])"
   ]
  },
  {
   "cell_type": "code",
   "execution_count": 6,
   "metadata": {},
   "outputs": [],
   "source": [
    "images, labels = shuffle(images, labels, random_state=config['random_seed'])"
   ]
  },
  {
   "cell_type": "code",
   "execution_count": 7,
   "metadata": {},
   "outputs": [],
   "source": [
    "x_train, x_test, y_train, y_test = train_test_split(\n",
    "    images, labels, test_size=config['dataset']['test_ratio'], random_state=config['random_seed'])\n"
   ]
  },
  {
   "cell_type": "markdown",
   "metadata": {},
   "source": [
    "## Model Tensorflow"
   ]
  },
  {
   "cell_type": "code",
   "execution_count": 9,
   "metadata": {},
   "outputs": [],
   "source": [
    "import tensorflow as tf\n",
    "from keras import regularizers\n",
    "from keras.layers import BatchNormalization\n",
    "from keras.layers import Dense\n",
    "from keras.layers import Dropout\n",
    "from tensorflow.keras.optimizers import Adamax\n",
    "from keras.models import Model\n",
    "from keras.callbacks import EarlyStopping, ReduceLROnPlateau\n",
    "import wandb\n",
    "from wandb.keras import WandbCallback\n",
    "import matplotlib.pyplot as plt\n"
   ]
  },
  {
   "cell_type": "code",
   "execution_count": 26,
   "metadata": {},
   "outputs": [
    {
     "name": "stdout",
     "output_type": "stream",
     "text": [
      "Downloading data from https://storage.googleapis.com/keras-applications/efficientnetb3_notop.h5\n",
      "43941136/43941136 [==============================] - 48s 1us/step\n"
     ]
    }
   ],
   "source": [
    "base_model = tf.keras.applications.efficientnet.EfficientNetB3(\n",
    "    include_top=False, weights=\"imagenet\", input_shape=config['img_shape'], pooling='max')\n",
    "\n",
    "base_model.trainable = True\n",
    "\n",
    "x = base_model.output\n",
    "x = BatchNormalization(axis=-1, momentum=0.99, epsilon=0.001)(x)\n",
    "x = Dense(256, kernel_regularizer=regularizers.l2(l=0.016), activity_regularizer=regularizers.l1(0.006),\n",
    "          bias_regularizer=regularizers.l1(0.006), activation='relu')(x)\n",
    "x = Dropout(rate=.4, seed=123)(x)\n",
    "output = Dense(config['class_count'], activation='softmax')(x)\n",
    "\n",
    "model = Model(inputs=base_model.input, outputs=output)\n",
    "\n",
    "model.compile(Adamax(learning_rate=config['train']['lr']),\n",
    "              loss=tf.keras.losses.CategoricalCrossentropy(label_smoothing=config['train']['label_smoothing']), metrics=config['train']['metrics'])\n"
   ]
  },
  {
   "cell_type": "code",
   "execution_count": null,
   "metadata": {},
   "outputs": [],
   "source": [
    "with wandb.init(project=config['wandb']['project'],\n",
    "                name=config['wandb']['name'],\n",
    "                job_type='Training',\n",
    "                config=config):\n",
    "    callbacks = [EarlyStopping(**config['callbacks']['EarlyStopping']),\n",
    "                    ReduceLROnPlateau(**config['callbacks']['ReduceLROnPlateau']),\n",
    "                    WandbCallback(**config['callbacks']['WandbCallback'])]\n",
    "\n",
    "    history = model.fit(\n",
    "        x_train, y_train,\n",
    "        epochs=config['train']['epochs'],\n",
    "        batch_size=config['train']['batch_size'],\n",
    "        validation_data=(x_test, y_test),\n",
    "        callbacks=callbacks\n",
    "    )\n"
   ]
  },
  {
   "cell_type": "code",
   "execution_count": null,
   "metadata": {},
   "outputs": [],
   "source": [
    "def plot_history(history):\n",
    "    tacc=history.history['accuracy']\n",
    "    tloss=history.history['loss']\n",
    "    vacc=history.history['val_accuracy']\n",
    "    vloss = history.history['val_loss']\n",
    "\n",
    "    epochs=[]\n",
    "\n",
    "    for i in range(len(tacc)):\n",
    "        epochs.append(i+1)   \n",
    "\n",
    "    index_loss=np.argmin(vloss)\n",
    "    val_lowest=vloss[index_loss]\n",
    "    index_acc=np.argmax(vacc)\n",
    "    acc_highest=vacc[index_acc]\n",
    "\n",
    "    plt.style.use('fivethirtyeight')\n",
    "\n",
    "    sc_label='best epoch= '+ str(index_loss+1)\n",
    "    vc_label='best epoch= '+ str(index_acc + 1)\n",
    "    _,axes=plt.subplots(nrows=1, ncols=2, figsize=(20,8))\n",
    "\n",
    "    axes[0].plot(epochs,tloss, 'r', label='Training loss')\n",
    "    axes[0].plot(epochs,vloss,'g',label='Validation loss' )\n",
    "    axes[0].scatter(index_loss+1,val_lowest, s=150, c= 'blue', label=sc_label)\n",
    "    axes[0].set_title('Training and Validation Loss')\n",
    "    axes[0].set_xlabel('Epochs')\n",
    "    axes[0].set_ylabel('Loss')\n",
    "    axes[0].legend()\n",
    "\n",
    "    axes[1].plot (epochs,tacc,'r',label= 'Training Accuracy')\n",
    "    axes[1].plot (epochs,vacc,'g',label= 'Validation Accuracy')\n",
    "    axes[1].scatter(index_acc+1,acc_highest, s=150, c= 'blue', label=vc_label)\n",
    "    axes[1].set_title('Training and Validation Accuracy')\n",
    "    axes[1].set_xlabel('Epochs')\n",
    "    axes[1].set_ylabel('Accuracy')\n",
    "    axes[1].legend()\n",
    "\n",
    "    plt.tight_layout    \n",
    "    plt.show()"
   ]
  },
  {
   "cell_type": "code",
   "execution_count": null,
   "metadata": {},
   "outputs": [],
   "source": [
    "plot_history(history)"
   ]
  },
  {
   "cell_type": "code",
   "execution_count": null,
   "metadata": {},
   "outputs": [],
   "source": [
    "model.save(config['baseline_path'])"
   ]
  },
  {
   "cell_type": "markdown",
   "metadata": {},
   "source": [
    "## Testing/Validation"
   ]
  },
  {
   "cell_type": "code",
   "execution_count": 6,
   "metadata": {},
   "outputs": [],
   "source": [
    "from sklearn.metrics import confusion_matrix, classification_report\n",
    "import seaborn as sns\n",
    "import matplotlib.pyplot as plt\n",
    "import tensorflow as tf"
   ]
  },
  {
   "cell_type": "code",
   "execution_count": 47,
   "metadata": {},
   "outputs": [],
   "source": [
    "model = tf.keras.models.load_model(config['baseline_path'])"
   ]
  },
  {
   "cell_type": "code",
   "execution_count": 48,
   "metadata": {},
   "outputs": [],
   "source": [
    "def validate_on_dataframe(model, df, name):\n",
    "    preds = []\n",
    "    true = []\n",
    "    for idx in range(len(df)):\n",
    "        cls, path = df.iloc[idx]\n",
    "        image = cv2.imread(path)\n",
    "\n",
    "        im1 = preprocess(image)\n",
    "        im2 = preprocess(image)\n",
    "        im3 = preprocess(image)\n",
    "        im4 = preprocess(image)\n",
    "        im5 = preprocess(image)\n",
    "\n",
    "        image_batch = np.array([im1, im2, im3, im4, im5])\n",
    "        res = model.predict(image_batch, verbose=0)\n",
    "\n",
    "        pred = (res[0] + res[1] + res[2] + res[3] + res[4])\n",
    "        preds.append(pred)\n",
    "        true.append(cls)\n",
    "\n",
    "    true_oh = encoder.fit_transform(np.array(df.label))\n",
    "    res = []\n",
    "    for idx in range(len(preds)):\n",
    "        res.append(np.argmax(true_oh[idx]) == np.argmax(preds[idx]))\n",
    "        # print(f'True idx = {np.argmax(true[idx])}')\n",
    "        # print(f'Predicted idx = {np.argmax(preds[idx])}')\n",
    "    print(f'Accuracy: {np.sum(res) / np.sum(true_oh)*100:.04}%')\n",
    "\n",
    "    preds = encoder.inverse_transform(np.array(preds))\n",
    "    cm = confusion_matrix(np.array(df.label), preds)\n",
    "    plt.figure(figsize=(20, 16))\n",
    "    cm = sns.heatmap(cm, annot=True, vmin=0, fmt='g', cmap='Blues', cbar=False)\n",
    "    plt.xticks(np.arange(config['class_count'])+.5, classes, rotation=90)\n",
    "    plt.yticks(np.arange(config['class_count'])+.5, classes, rotation=0)\n",
    "    plt.xlabel(\"Predicted\")\n",
    "    plt.ylabel(\"Actual\")\n",
    "    plt.title(\"Confusion Matrix\")\n",
    "    plt.show()\n",
    "    # create classification report\n",
    "    clr = classification_report(np.array(df.label),\n",
    "                                preds, target_names=classes, digits=4)\n",
    "    print(f\"Classification Report for {name}:\\n----------------------\\n\", clr)\n",
    "\n",
    "    wandb.log({f'confusion_matrix_{name}': wandb.Image(cm)})\n",
    "    wandb.log({f'{name}_accuracy:': np.sum(res) / np.sum(true_oh)*100})\n"
   ]
  },
  {
   "cell_type": "code",
   "execution_count": 47,
   "metadata": {},
   "outputs": [
    {
     "data": {
      "text/html": [
       "wandb version 0.12.21 is available!  To upgrade, please run:\n",
       " $ pip install wandb --upgrade"
      ],
      "text/plain": [
       "<IPython.core.display.HTML object>"
      ]
     },
     "metadata": {},
     "output_type": "display_data"
    },
    {
     "data": {
      "text/html": [
       "Tracking run with wandb version 0.12.19"
      ],
      "text/plain": [
       "<IPython.core.display.HTML object>"
      ]
     },
     "metadata": {},
     "output_type": "display_data"
    },
    {
     "data": {
      "text/html": [
       "Run data is saved locally in <code>d:\\GigaFolder\\projects\\Portuguese-Meals-Classification\\wandb\\run-20220706_191337-2lhd2oz9</code>"
      ],
      "text/plain": [
       "<IPython.core.display.HTML object>"
      ]
     },
     "metadata": {},
     "output_type": "display_data"
    },
    {
     "data": {
      "text/html": [
       "Syncing run <strong><a href=\"https://wandb.ai/empyempt/Portugese%20Meals%20Classification/runs/2lhd2oz9\" target=\"_blank\">EfficientNetB3</a></strong> to <a href=\"https://wandb.ai/empyempt/Portugese%20Meals%20Classification\" target=\"_blank\">Weights & Biases</a> (<a href=\"https://wandb.me/run\" target=\"_blank\">docs</a>)<br/>"
      ],
      "text/plain": [
       "<IPython.core.display.HTML object>"
      ]
     },
     "metadata": {},
     "output_type": "display_data"
    },
    {
     "name": "stdout",
     "output_type": "stream",
     "text": [
      "Accuracy: 96.43%\n"
     ]
    },
    {
     "data": {
      "image/png": "[encoded data removed]",
      "text/plain": [
       "<Figure size 1440x1152 with 1 Axes>"
      ]
     },
     "metadata": {
      "needs_background": "light"
     },
     "output_type": "display_data"
    },
    {
     "name": "stdout",
     "output_type": "stream",
     "text": [
      "Classification Report:\n",
      "----------------------\n",
      "                       precision    recall  f1-score   support\n",
      "\n",
      "             aletria     0.9286    1.0000    0.9630        26\n",
      "      arroz_cabidela     1.0000    1.0000    1.0000         7\n",
      "       bacalhau_bras     0.9762    0.9762    0.9762        42\n",
      "      bacalhau_natas     0.9091    1.0000    0.9524        10\n",
      "      batatas_fritas     1.0000    0.9487    0.9737        39\n",
      "      bolo_chocolate     0.9556    0.9773    0.9663        44\n",
      "            cachorro     0.9464    0.9464    0.9464        56\n",
      "         caldo_verde     1.0000    1.0000    1.0000         3\n",
      "   cozido_portuguesa     0.9286    1.0000    0.9630        13\n",
      "           croissant     1.0000    1.0000    1.0000         5\n",
      "              donuts     0.9592    0.9038    0.9307        52\n",
      "esparguete_bolonhesa     1.0000    1.0000    1.0000        56\n",
      "            feijoada     1.0000    1.0000    1.0000        11\n",
      "         francesinha     0.9778    0.9778    0.9778        45\n",
      "              gelado     0.9434    0.9615    0.9524        52\n",
      "          hamburguer     0.9000    0.9000    0.9000        50\n",
      "          jardineira     0.9231    1.0000    0.9600        12\n",
      "                nata     1.0000    1.0000    1.0000        12\n",
      "                 ovo     1.0000    1.0000    1.0000         8\n",
      "    pasteis_bacalhau     1.0000    1.0000    1.0000        11\n",
      "               pizza     1.0000    0.9762    0.9880        42\n",
      "   tripas_moda_porto     1.0000    0.9375    0.9677        16\n",
      "             waffles     0.9667    0.9667    0.9667        60\n",
      "\n",
      "            accuracy                         0.9643       672\n",
      "           macro avg     0.9702    0.9770    0.9732       672\n",
      "        weighted avg     0.9648    0.9643    0.9643       672\n",
      "\n"
     ]
    },
    {
     "data": {
      "text/html": [
       "Waiting for W&B process to finish... <strong style=\"color:green\">(success).</strong>"
      ],
      "text/plain": [
       "<IPython.core.display.HTML object>"
      ]
     },
     "metadata": {},
     "output_type": "display_data"
    },
    {
     "data": {
      "text/html": [
       "<style>\n",
       "    table.wandb td:nth-child(1) { padding: 0 10px; text-align: left ; width: auto;} td:nth-child(2) {text-align: left ; width: 100%}\n",
       "    .wandb-row { display: flex; flex-direction: row; flex-wrap: wrap; justify-content: flex-start; width: 100% }\n",
       "    .wandb-col { display: flex; flex-direction: column; flex-basis: 100%; flex: 1; padding: 10px; }\n",
       "    </style>\n",
       "<div class=\"wandb-row\"><div class=\"wandb-col\"><h3>Run history:</h3><br/><table class=\"wandb\"><tr><td>baseline_accuracy:</td><td>▁</td></tr></table><br/></div><div class=\"wandb-col\"><h3>Run summary:</h3><br/><table class=\"wandb\"><tr><td>baseline_accuracy:</td><td>96.42857</td></tr></table><br/></div></div>"
      ],
      "text/plain": [
       "<IPython.core.display.HTML object>"
      ]
     },
     "metadata": {},
     "output_type": "display_data"
    },
    {
     "data": {
      "text/html": [
       "Synced <strong style=\"color:#cdcd00\">EfficientNetB3</strong>: <a href=\"https://wandb.ai/empyempt/Portugese%20Meals%20Classification/runs/2lhd2oz9\" target=\"_blank\">https://wandb.ai/empyempt/Portugese%20Meals%20Classification/runs/2lhd2oz9</a><br/>Synced 5 W&B file(s), 1 media file(s), 0 artifact file(s) and 0 other file(s)"
      ],
      "text/plain": [
       "<IPython.core.display.HTML object>"
      ]
     },
     "metadata": {},
     "output_type": "display_data"
    },
    {
     "data": {
      "text/html": [
       "Find logs at: <code>.\\wandb\\run-20220706_191337-2lhd2oz9\\logs</code>"
      ],
      "text/plain": [
       "<IPython.core.display.HTML object>"
      ]
     },
     "metadata": {},
     "output_type": "display_data"
    }
   ],
   "source": [
    "with wandb.init(project=config['wandb']['project'],\n",
    "                name=config['wandb']['name'],\n",
    "                job_type='Validation',\n",
    "                config=config):\n",
    "    validate_on_dataframe(model, val_df, 'baseline')\n"
   ]
  },
  {
   "cell_type": "markdown",
   "metadata": {},
   "source": [
    "## Optimization"
   ]
  },
  {
   "cell_type": "code",
   "execution_count": 13,
   "metadata": {},
   "outputs": [],
   "source": [
    "import tempfile\n",
    "import tensorflow as tf\n",
    "import tensorflow_model_optimization as tfmot\n",
    "import numpy as np\n",
    "from keras.callbacks import EarlyStopping, ReduceLROnPlateau\n",
    "from wandb.keras import WandbCallback\n",
    "import pathlib"
   ]
  },
  {
   "cell_type": "markdown",
   "metadata": {},
   "source": [
    "So pruning doesn't work because of unsupported layers...  \n",
    "Than I'll just quantize it"
   ]
  },
  {
   "cell_type": "code",
   "execution_count": 22,
   "metadata": {},
   "outputs": [],
   "source": [
    "def quantize(model, save_path):\n",
    "    converter = tf.lite.TFLiteConverter.from_keras_model(model)\n",
    "    tflite_model = converter.convert()\n",
    "\n",
    "    tflite_model_file = pathlib.Path(save_path)\n",
    "    tflite_model_file.write_bytes(tflite_model)"
   ]
  },
  {
   "cell_type": "code",
   "execution_count": 45,
   "metadata": {},
   "outputs": [],
   "source": [
    "# def prune(config, model):\n",
    "#     prune_low_magnitude = tfmot.sparsity.keras.prune_low_magnitude\n",
    "\n",
    "#     end_step = np.ceil(\n",
    "#         config['amount'] / config['optimize']['batch_size']).astype(np.int32) * config['optimize']['epochs']\n",
    "#     pruning_params = {\n",
    "#         'pruning_schedule': tfmot.sparsity.keras.PolynomialDecay(initial_sparsity=0.50,\n",
    "#                                                                  final_sparsity=0.80,\n",
    "#                                                                  begin_step=0,\n",
    "#                                                                  end_step=end_step)\n",
    "#     }\n",
    "\n",
    "#     model_for_pruning = prune_low_magnitude(model, **pruning_params)\n",
    "\n",
    "#     # `prune_low_magnitude` requires a recompile.\n",
    "#     model_for_pruning.compile(Adamax(learning_rate=config['optimize']['lr']),\n",
    "#                               loss=tf.keras.losses.CategoricalCrossentropy(label_smoothing=config['optimize']['label_smoothing']), metrics=config['optimize']['metrics'])\n",
    "\n",
    "#     logdir = tempfile.mkdtemp()\n",
    "#     callbacks = [tfmot.sparsity.keras.UpdatePruningStep(),\n",
    "#                  tfmot.sparsity.keras.PruningSummaries(log_dir=logdir),\n",
    "#                  EarlyStopping(**config['callbacks']['EarlyStopping']),\n",
    "#                  ReduceLROnPlateau(**config['callbacks']['ReduceLROnPlateau']),\n",
    "#                  WandbCallback(**config['callbacks']['WandbCallback'])]\n",
    "\n",
    "#     history = model_for_pruning.fit(\n",
    "#         x_train, y_train,\n",
    "#         epochs=config['optimize']['epochs'],\n",
    "#         batch_size=config['optimize']['batch_size'],\n",
    "#         validation_data=(x_test, y_test),\n",
    "#         callbacks=callbacks)\n",
    "\n",
    "#     return history, model_for_pruning\n",
    "\n",
    "\n",
    "# def strip_pruning(model, save_path):\n",
    "#     model_for_export = tfmot.sparsity.keras.strip_pruning(model)\n",
    "#     model_for_export.save(save_path)\n",
    "\n",
    "#     return model_for_export\n",
    "\n",
    "\n",
    "# def compare_baseline_to_pruned(baseline, pruned):\n",
    "#     _, baseline_accuracy = baseline.evaluate(\n",
    "#         x_test, y_test, verbose=0)\n",
    "\n",
    "#     _, pruned_accuracy = pruned.evaluate(\n",
    "#         x_test, y_test, verbose=0)\n",
    "\n",
    "#     wandb.log({\"baseline_accuracy\": baseline_accuracy * 100})\n",
    "#     wandb.log({\"pruned_accuracy\": pruned_accuracy * 100})\n",
    "\n",
    "#     print('Baseline test accuracy:', baseline_accuracy * 100)\n",
    "#     print('Pruned test accuracy:', pruned_accuracy * 100)\n"
   ]
  },
  {
   "cell_type": "code",
   "execution_count": null,
   "metadata": {},
   "outputs": [],
   "source": [
    "# with wandb.init(project=config['wandb']['project'],\n",
    "#                 name=config['wandb']['name'],\n",
    "#                 job_type='Optimization',\n",
    "#                 config=config):\n",
    "#     prune_history, pruned_model = prune(model)\n",
    "#     pruned_model = strip_pruning(pruned_model, config['pruned_path'])\n",
    "#     compare_baseline_to_pruned(model, pruned_model)\n"
   ]
  },
  {
   "cell_type": "code",
   "execution_count": 23,
   "metadata": {},
   "outputs": [
    {
     "name": "stderr",
     "output_type": "stream",
     "text": [
      "WARNING:absl:Found untraced functions such as _jit_compiled_convolution_op, _jit_compiled_convolution_op, _jit_compiled_convolution_op, _jit_compiled_convolution_op, _jit_compiled_convolution_op while saving (showing 5 of 130). These functions will not be directly callable after loading.\n"
     ]
    },
    {
     "name": "stdout",
     "output_type": "stream",
     "text": [
      "INFO:tensorflow:Assets written to: C:\\Users\\3mpti\\AppData\\Local\\Temp\\tmpd_9x67ix\\assets\n"
     ]
    },
    {
     "name": "stderr",
     "output_type": "stream",
     "text": [
      "INFO:tensorflow:Assets written to: C:\\Users\\3mpti\\AppData\\Local\\Temp\\tmpd_9x67ix\\assets\n"
     ]
    }
   ],
   "source": [
    "model = tf.keras.models.load_model(config['baseline_path'])\n",
    "quantize(model, config['tflite_path'])"
   ]
  },
  {
   "cell_type": "markdown",
   "metadata": {},
   "source": [
    "## TFLite "
   ]
  },
  {
   "cell_type": "code",
   "execution_count": 10,
   "metadata": {},
   "outputs": [],
   "source": [
    "import tensorflow as tf"
   ]
  },
  {
   "cell_type": "code",
   "execution_count": 24,
   "metadata": {},
   "outputs": [],
   "source": [
    "interpreter = tf.lite.Interpreter(model_path=config['tflite_path'])\n",
    "interpreter.allocate_tensors() "
   ]
  },
  {
   "cell_type": "code",
   "execution_count": 31,
   "metadata": {},
   "outputs": [],
   "source": [
    "idx = 0\n",
    "input_data = x_test[idx]\n",
    "input_data = np.expand_dims(input_data, axis=0)\n",
    "input_data = tf.convert_to_tensor(input_data, dtype=tf.float32)"
   ]
  },
  {
   "cell_type": "code",
   "execution_count": 42,
   "metadata": {},
   "outputs": [],
   "source": [
    "input_details = interpreter.get_input_details()[0]\n",
    "output_details = interpreter.get_output_details()[0]"
   ]
  },
  {
   "cell_type": "code",
   "execution_count": 33,
   "metadata": {},
   "outputs": [],
   "source": [
    "interpreter.set_tensor(input['index'], input_data)\n",
    "interpreter.invoke()\n",
    "output = interpreter.get_tensor(output['index'])\n"
   ]
  },
  {
   "cell_type": "code",
   "execution_count": 34,
   "metadata": {},
   "outputs": [
    {
     "data": {
      "text/plain": [
       "True"
      ]
     },
     "execution_count": 34,
     "metadata": {},
     "output_type": "execute_result"
    }
   ],
   "source": [
    "np.argmax(output) == np.argmax(y_test[idx])"
   ]
  },
  {
   "cell_type": "markdown",
   "metadata": {},
   "source": [
    "### TFlite validation"
   ]
  },
  {
   "cell_type": "code",
   "execution_count": null,
   "metadata": {},
   "outputs": [],
   "source": [
    "TEST_CASES = len(x_test)\n",
    "exps = []\n",
    "ress = []\n",
    "for i in range(TEST_CASES):\n",
    "  expected = model.predict(x_test[i:i+1])\n",
    "  interpreter.set_tensor(\n",
    "      input_details['index'], x_test[i:i+1, :, :].astype(np.float32))\n",
    "  interpreter.invoke()\n",
    "  result = interpreter.get_tensor(output_details['index'])\n",
    "\n",
    "  exps.append(expected)\n",
    "  ress.append(result)"
   ]
  },
  {
   "cell_type": "code",
   "execution_count": 49,
   "metadata": {},
   "outputs": [
    {
     "name": "stdout",
     "output_type": "stream",
     "text": [
      "TFlite model accuracy comared to TF model: 1.0\n"
     ]
    }
   ],
   "source": [
    "rights = 0\n",
    "for idx in range(len(x_test)):\n",
    "    if np.argmax(exps[idx]) == np.argmax(ress[idx]):\n",
    "        rights+=1\n",
    "\n",
    "print(f'TFlite model accuracy comared to TF model: {len(x_test) / rights}')"
   ]
  }
 ],
 "metadata": {
  "kernelspec": {
   "display_name": "Python 3.10.2 64-bit",
   "language": "python",
   "name": "python3"
  },
  "language_info": {
   "codemirror_mode": {
    "name": "ipython",
    "version": 3
   },
   "file_extension": ".py",
   "mimetype": "text/x-python",
   "name": "python",
   "nbconvert_exporter": "python",
   "pygments_lexer": "ipython3",
   "version": "3.10.2"
  },
  "orig_nbformat": 4,
  "vscode": {
   "interpreter": {
    "hash": "20f5b49acdb8aa5482bf611cd625371fff780f4a1ea28b5df1442e16c229ca99"
   }
  }
 },
 "nbformat": 4,
 "nbformat_minor": 2
}
