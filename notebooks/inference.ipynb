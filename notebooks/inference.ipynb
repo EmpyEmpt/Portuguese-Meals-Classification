{
 "cells": [
  {
   "cell_type": "markdown",
   "metadata": {},
   "source": [
    "# Portugese Meals Classification: Inference"
   ]
  },
  {
   "cell_type": "code",
   "execution_count": 2,
   "metadata": {},
   "outputs": [],
   "source": [
    "import gradio as gr\n",
    "import tensorflow as tf\n",
    "import cv2\n",
    "import numpy as np\n",
    "import pandas as pd\n",
    "from sklearn.preprocessing import LabelBinarizer\n",
    "import yaml\n"
   ]
  },
  {
   "cell_type": "code",
   "execution_count": 3,
   "metadata": {},
   "outputs": [
    {
     "name": "stdout",
     "output_type": "stream",
     "text": [
      "d:\\GigaFolder\\projects\\Portuguese-Meals-Classification\n"
     ]
    }
   ],
   "source": [
    "%cd .."
   ]
  },
  {
   "cell_type": "code",
   "execution_count": 4,
   "metadata": {},
   "outputs": [],
   "source": [
    "config = yaml.safe_load(open('config.yaml', 'r'))"
   ]
  },
  {
   "cell_type": "code",
   "execution_count": 5,
   "metadata": {},
   "outputs": [],
   "source": [
    "def resize(image, image_size=config['img_shape'][0]):\n",
    "    return cv2.resize(image, (image_size, image_size), interpolation=cv2.INTER_AREA)\n",
    "\n",
    "def normalize(image):\n",
    "    image = image / 255\n",
    "    image = image.astype(np.float32)\n",
    "    return image\n",
    "\n",
    "def preprocess(image):\n",
    "    image = resize(image)\n",
    "    image = normalize(image)\n",
    "    return image"
   ]
  },
  {
   "cell_type": "code",
   "execution_count": 6,
   "metadata": {},
   "outputs": [],
   "source": [
    "classes = ['aletria',\n",
    "           'arroz_cabidela',\n",
    "           'bacalhau_bras',\n",
    "           'bacalhau_natas',\n",
    "           'batatas_fritas',\n",
    "           'bolo_chocolate',\n",
    "           'cachorro',\n",
    "           'caldo_verde',\n",
    "           'cozido_portuguesa',\n",
    "           'croissant',\n",
    "           'donuts',\n",
    "           'esparguete_bolonhesa',\n",
    "           'feijoada',\n",
    "           'francesinha',\n",
    "           'gelado',\n",
    "           'hamburguer',\n",
    "           'jardineira',\n",
    "           'nata',\n",
    "           'ovo',\n",
    "           'pasteis_bacalhau',\n",
    "           'pizza',\n",
    "           'tripas_moda_porto',\n",
    "           'waffles']\n",
    "\n",
    "classes.sort()\n",
    "\n",
    "encoder = LabelBinarizer()\n",
    "classes_oh = np.asarray(classes)\n",
    "classes_oh = encoder.fit_transform(classes_oh)\n",
    "del classes_oh"
   ]
  },
  {
   "cell_type": "code",
   "execution_count": 7,
   "metadata": {},
   "outputs": [],
   "source": [
    "interpreter = tf.lite.Interpreter(model_path=config['tflite_path'])\n",
    "interpreter.allocate_tensors()\n",
    "input_details = interpreter.get_input_details()[0]\n",
    "output_details = interpreter.get_output_details()[0]"
   ]
  },
  {
   "cell_type": "code",
   "execution_count": 18,
   "metadata": {},
   "outputs": [],
   "source": [
    "def inference(image):\n",
    "    image = cv2.cvtColor(image, cv2.COLOR_RGB2BGR)\n",
    "    image = preprocess(image)\n",
    "    image = np.expand_dims(image, axis=0)\n",
    "\n",
    "    interpreter.set_tensor(input_details['index'], image)\n",
    "    interpreter.invoke()\n",
    "    output = interpreter.get_tensor(output_details['index'])\n",
    "\n",
    "    # res = np.argmax(output)\n",
    "    pred = encoder.inverse_transform(np.array(output))\n",
    "    return pred[0]"
   ]
  },
  {
   "cell_type": "code",
   "execution_count": 19,
   "metadata": {},
   "outputs": [
    {
     "data": {
      "text/plain": [
       "'gelado'"
      ]
     },
     "execution_count": 19,
     "metadata": {},
     "output_type": "execute_result"
    }
   ],
   "source": [
    "image = cv2.imread('C:/Users/3mpti/OneDrive/Рабочий стол/Без названия.jpg')\n",
    "inference(image)"
   ]
  },
  {
   "cell_type": "code",
   "execution_count": 12,
   "metadata": {},
   "outputs": [],
   "source": [
    "interface = gr.Interface(fn=inference, inputs='image',\n",
    "                         outputs='text', title='Portugese Meals Classification')"
   ]
  },
  {
   "cell_type": "code",
   "execution_count": 15,
   "metadata": {},
   "outputs": [
    {
     "name": "stdout",
     "output_type": "stream",
     "text": [
      "Running on local URL:  http://127.0.0.1:7860/\n",
      "Running on public URL: https://21728.gradio.app\n",
      "\n",
      "This share link expires in 72 hours. For free permanent hosting, check out Spaces: https://huggingface.co/spaces\n"
     ]
    },
    {
     "data": {
      "text/plain": [
       "(<gradio.routes.App at 0x23fff606200>,\n",
       " 'http://127.0.0.1:7860/',\n",
       " 'https://21728.gradio.app')"
      ]
     },
     "execution_count": 15,
     "metadata": {},
     "output_type": "execute_result"
    }
   ],
   "source": [
    "interface.launch(share=True, inline = False)"
   ]
  },
  {
   "cell_type": "code",
   "execution_count": 16,
   "metadata": {},
   "outputs": [
    {
     "name": "stdout",
     "output_type": "stream",
     "text": [
      "Closing server running on port: 7860\n"
     ]
    }
   ],
   "source": [
    "interface.close()"
   ]
  }
 ],
 "metadata": {
  "kernelspec": {
   "display_name": "Python 3.10.2 64-bit",
   "language": "python",
   "name": "python3"
  },
  "language_info": {
   "codemirror_mode": {
    "name": "ipython",
    "version": 3
   },
   "file_extension": ".py",
   "mimetype": "text/x-python",
   "name": "python",
   "nbconvert_exporter": "python",
   "pygments_lexer": "ipython3",
   "version": "3.10.2"
  },
  "orig_nbformat": 4,
  "vscode": {
   "interpreter": {
    "hash": "20f5b49acdb8aa5482bf611cd625371fff780f4a1ea28b5df1442e16c229ca99"
   }
  }
 },
 "nbformat": 4,
 "nbformat_minor": 2
}
